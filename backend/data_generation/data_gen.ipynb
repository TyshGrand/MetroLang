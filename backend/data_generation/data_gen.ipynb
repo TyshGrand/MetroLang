{
 "cells": [
  {
   "cell_type": "code",
   "execution_count": 16,
   "metadata": {},
   "outputs": [],
   "source": [
    "import pandas as pd\n",
    "import numpy as np\n",
    "import random\n",
    "import os\n",
    "import mysql.connector\n",
    "from datetime import  datetime, timedelta\n",
    "import time"
   ]
  },
  {
   "cell_type": "code",
   "execution_count": 3,
   "metadata": {},
   "outputs": [],
   "source": [
    "DB_CONFIG = {\n",
    "    \"host\": \"localhost\",  # Change if using a remote DB\n",
    "    \"user\": \"root\",\n",
    "    \"password\": \"1234567890\",\n",
    "    \"database\": \"test\"  # Choose your schema\n",
    "}"
   ]
  },
  {
   "cell_type": "code",
   "execution_count": 4,
   "metadata": {},
   "outputs": [],
   "source": [
    "locations_filename = 'locations.csv'"
   ]
  },
  {
   "cell_type": "code",
   "execution_count": null,
   "metadata": {},
   "outputs": [],
   "source": [
    "def insert_location_data():\n",
    "    try:\n",
    "        conn = mysql.connector.connect(**DB_CONFIG)\n",
    "        cursor = conn.cursor()\n",
    "\n",
    "        # Create table if not exists\n",
    "        create_table_query = \"\"\"\n",
    "        CREATE TABLE IF NOT EXISTS locations (\n",
    "            id VARCHAR(10) PRIMARY KEY,\n",
    "            name VARCHAR(255),\n",
    "            is_active BOOLEAN,\n",
    "            selling_type TEXT\n",
    "        );\n",
    "        \"\"\"\n",
    "        cursor.execute(create_table_query)\n",
    "        print(\"Table checked/created successfully.\")\n",
    "\n",
    "        # Insert data into the table\n",
    "        for _, row in locations.iterrows():\n",
    "            insert_query = \"\"\"\n",
    "            INSERT INTO locations (id, name, is_active, selling_type)\n",
    "            VALUES (%s, %s, %s, %s)\n",
    "            ON DUPLICATE KEY UPDATE name = VALUES(name), is_active = VALUES(is_active), selling_type = VALUES(selling_type);\n",
    "            \"\"\"\n",
    "            cursor.execute(insert_query, (row[\"id\"], row[\"name\"], row[\"is_active\"], \",\".join(row[\"selling_type\"])))\n",
    "\n",
    "        # Commit and close connection\n",
    "        conn.commit()\n",
    "        cursor.close()\n",
    "        conn.close()\n",
    "        print(\"Data inserted into MySQL successfully.\")\n",
    "\n",
    "    except mysql.connector.Error as err:\n",
    "        print(f\"Error: {err}\")"
   ]
  },
  {
   "cell_type": "code",
   "execution_count": 36,
   "metadata": {},
   "outputs": [],
   "source": [
    "def insert_user_data():\n",
    "    try:\n",
    "        conn = mysql.connector.connect(**DB_CONFIG)\n",
    "        cursor = conn.cursor()\n",
    "\n",
    "        # Create table if not exists\n",
    "        create_table_query = \"\"\"\n",
    "        CREATE TABLE IF NOT EXISTS users (\n",
    "                id SERIAL PRIMARY KEY,\n",
    "                name VARCHAR(255) NOT NULL,\n",
    "                email VARCHAR(255) UNIQUE NOT NULL,\n",
    "                phone_number VARCHAR(20) NOT NULL,\n",
    "                country_code VARCHAR(10) NOT NULL,\n",
    "                is_monthly BOOLEAN NOT NULL,\n",
    "                monthly_locations TEXT,\n",
    "                cof BOOLEAN NOT NULL\n",
    "        );\n",
    "        \"\"\"\n",
    "        cursor.execute(create_table_query)\n",
    "        print(\"Table checked/created successfully.\")\n",
    "\n",
    "        # Insert data into the table\n",
    "        for _, row in user_df.iterrows():\n",
    "            insert_query = \"\"\"\n",
    "            INSERT INTO users (name, email, phone_number, country_code, is_monthly, monthly_locations, cof)\n",
    "            VALUES (%s, %s, %s, %s, %s, %s, %s)\n",
    "            ON DUPLICATE KEY UPDATE name = VALUES(name),\n",
    "            email = VALUES(email),\n",
    "            phone_number = VALUES(phone_number),\n",
    "            country_code = VALUES(country_code),\n",
    "            is_monthly = VALUES(is_monthly),\n",
    "            monthly_locations = VALUES(monthly_locations),\n",
    "            cof = VALUES(cof);\n",
    "            \"\"\"\n",
    "            cursor.execute(insert_query, (row[\"name\"], row[\"email\"], row[\"phone_number\"], row[\"country_code\"],row[\"is_monthly\"],\",\".join(row[\"monthly_locations\"]), row[\"cof\"]))\n",
    "\n",
    "        # Commit and close connection\n",
    "        conn.commit()\n",
    "        cursor.close()\n",
    "        conn.close()\n",
    "        print(\"Data inserted into MySQL successfully.\")\n",
    "\n",
    "    except mysql.connector.Error as err:\n",
    "        print(f\"Error: {err}\")"
   ]
  },
  {
   "cell_type": "code",
   "execution_count": 14,
   "metadata": {},
   "outputs": [
    {
     "name": "stdout",
     "output_type": "stream",
     "text": [
      "      id           name  is_active                   selling_type\n",
      "0  99999         Pallet       True                 [reservations]\n",
      "1  60287      LilyClove      False      [on-demand, reservations]\n",
      "2  76817         Pewter       True                    [on-demand]\n",
      "3  47261        Lilroot       True  [odv, on-demand, resevations]\n",
      "4  82615  Indigo League       True                          [odv]\n"
     ]
    }
   ],
   "source": [
    "if not os.path.exists('locatons.csv'):\n",
    "\n",
    "    data = {\n",
    "        \"id\": [\"99999\", \"60287\", \"76817\", \"47261\",\"82615\"],\n",
    "        \"name\": [\"Pallet\", \"LilyClove\", \"Pewter\", \"Lilroot\", \"Indigo League\"],\n",
    "        \"is_active\": [True, False, True, True, True],\n",
    "        \"selling_type\": [[\"reservations\"],\n",
    "        [\"on-demand\", \"reservations\"],\n",
    "        [\"on-demand\"],\n",
    "        [\"odv\",\"on-demand\",\"resevations\"],\n",
    "        [\"odv\"]]\n",
    "    }\n",
    "\n",
    "    locations = pd.DataFrame(data)\n",
    "\n",
    "    print(locations)\n",
    "    locations.to_csv(locations_filename,header=True,index=False)"
   ]
  },
  {
   "cell_type": "code",
   "execution_count": 15,
   "metadata": {},
   "outputs": [
    {
     "name": "stdout",
     "output_type": "stream",
     "text": [
      "      id           name  is_active                             selling_type\n",
      "0  99999         Pallet       True                       [['reservations']]\n",
      "1  60287      LilyClove      False         [['on-demand',  'reservations']]\n",
      "2  76817         Pewter       True                          [['on-demand']]\n",
      "3  47261        Lilroot       True  [['odv',  'on-demand',  'resevations']]\n",
      "4  82615  Indigo League       True                                [['odv']]\n"
     ]
    }
   ],
   "source": [
    "locations = pd.read_csv(locations_filename)\n",
    "locations[\"selling_type\"] = locations[\"selling_type\"].apply(lambda x: x.split(\",\"))  \n",
    "\n",
    "print(locations)"
   ]
  },
  {
   "cell_type": "code",
   "execution_count": 27,
   "metadata": {},
   "outputs": [
    {
     "name": "stdout",
     "output_type": "stream",
     "text": [
      "Table checked/created successfully.\n",
      "Data inserted into MySQL successfully.\n"
     ]
    }
   ],
   "source": [
    "insert_location_data()"
   ]
  },
  {
   "cell_type": "code",
   "execution_count": 29,
   "metadata": {},
   "outputs": [],
   "source": [
    "\n",
    "user_data = {\n",
    "    \"name\": [\"Alice Johnson\", \"Bob Smith\", \"Charlie Brown\", \"David Wilson\", \"Emma Davis\", \n",
    "             \"Fiona Martinez\", \"George Clark\", \"Hannah Lewis\", \"Ian Wright\", \"Julia Roberts\"],\n",
    "    \"email\": [\"alice@example.com\", \"bob@example.com\", \"charlie@example.com\", \"david@example.com\", \"emma@example.com\",\n",
    "              \"fiona@example.com\", \"george@example.com\", \"hannah@example.com\", \"ian@example.com\", \"julia@example.com\"],\n",
    "    \"phone_number\": [\"+1234567890\", \"+1987654321\", \"+1122334455\", \"+1555666777\", \"+1444333222\",\n",
    "                     \"+1333777888\", \"+1666999000\", \"+1222111444\", \"+1777888999\", \"+1999888777\"],\n",
    "    \"country_code\": [\"US\", \"CA\", \"GB\", \"AU\", \"DE\", \"FR\", \"IN\", \"JP\", \"BR\", \"ZA\"],\n",
    "    \"is_monthly\": [True, False, True, True, False, True, False, True, False, True],\n",
    "    \"monthly_locations\": [\n",
    "        random.sample([\"Pallet\", \"LilyClove\", \"Pewter\", \"Lilroot\", \"Indigo League\"], k=random.randint(1, 3)) if is_m else []\n",
    "        for is_m in [True, False, True, True, False, True, False, True, False, True]\n",
    "    ],\n",
    "    \"cof\": [random.choice([True, False]) for _ in range(10)],\n",
    "}\n"
   ]
  },
  {
   "cell_type": "code",
   "execution_count": 31,
   "metadata": {},
   "outputs": [
    {
     "name": "stdout",
     "output_type": "stream",
     "text": [
      "             name                email phone_number country_code  is_monthly  \\\n",
      "0   Alice Johnson    alice@example.com  +1234567890           US        True   \n",
      "1       Bob Smith      bob@example.com  +1987654321           CA       False   \n",
      "2   Charlie Brown  charlie@example.com  +1122334455           GB        True   \n",
      "3    David Wilson    david@example.com  +1555666777           AU        True   \n",
      "4      Emma Davis     emma@example.com  +1444333222           DE       False   \n",
      "5  Fiona Martinez    fiona@example.com  +1333777888           FR        True   \n",
      "6    George Clark   george@example.com  +1666999000           IN       False   \n",
      "7    Hannah Lewis   hannah@example.com  +1222111444           JP        True   \n",
      "8      Ian Wright      ian@example.com  +1777888999           BR       False   \n",
      "9   Julia Roberts    julia@example.com  +1999888777           ZA        True   \n",
      "\n",
      "                  monthly_locations    cof  \n",
      "0                         [Lilroot]   True  \n",
      "1                                []  False  \n",
      "2  [Pewter, Lilroot, Indigo League]  False  \n",
      "3                  [Pewter, Pallet]   True  \n",
      "4                                []   True  \n",
      "5           [Pewter, Indigo League]  False  \n",
      "6                                []   True  \n",
      "7                          [Pewter]  False  \n",
      "8                                []   True  \n",
      "9               [Pallet, LilyClove]   True  \n"
     ]
    }
   ],
   "source": [
    "user_df = pd.DataFrame(user_data)\n",
    "print(user_df)"
   ]
  },
  {
   "cell_type": "code",
   "execution_count": 37,
   "metadata": {},
   "outputs": [
    {
     "name": "stdout",
     "output_type": "stream",
     "text": [
      "Table checked/created successfully.\n",
      "Data inserted into MySQL successfully.\n"
     ]
    }
   ],
   "source": [
    "insert_user_data()"
   ]
  },
  {
   "cell_type": "code",
   "execution_count": 5,
   "metadata": {},
   "outputs": [
    {
     "name": "stdout",
     "output_type": "stream",
     "text": [
      "✅ Inserted 800 payments successfully!\n"
     ]
    }
   ],
   "source": [
    "conn = mysql.connector.connect(**DB_CONFIG)\n",
    "cursor = conn.cursor()\n",
    "methods = ['apple_pay', 'google_pay', 'hps']\n",
    "data = []\n",
    "\n",
    "for _ in range(800):\n",
    "    total_amt = round(random.uniform(1, 500), 2)  # Random total amount > 0\n",
    "    validated_amt = round(random.uniform(0.1, total_amt - 0.01), 2)  # Less than total_amt\n",
    "    # paid_amount = round(total_amt - validated_amt, 2)  # Difference\n",
    "    method = random.choice(methods)  # Random payment method\n",
    "    \n",
    "    data.append((total_amt, validated_amt, method))\n",
    "\n",
    "# Insert data in batches for efficiency\n",
    "query = \"INSERT INTO payments (total_amt, validated_amt, method) VALUES (%s, %s, %s)\"\n",
    "cursor.executemany(query, data)\n",
    "conn.commit()\n",
    "cursor.close()\n",
    "conn.close()\n",
    "\n",
    "print(\"✅ Inserted 800 payments successfully!\")\n"
   ]
  },
  {
   "cell_type": "code",
   "execution_count": null,
   "metadata": {},
   "outputs": [
    {
     "name": "stdout",
     "output_type": "stream",
     "text": [
      "[94, 513, 757, 300, 788, 375, 745, 708, None, 417, 555, 689, 617, None, 116, 183, 616, None, 776, 152, 539, 114, None, None, 142, 261, 641, 25, None, 146, 370, 236, None, 558, 799, None, 568, 785, 42, None, 744, 110, 7, 67, 274, 156, 365, 244, 52, None, 645, 270, None, 655, 348, 769, 204, None, 294, 415, None, None, 93, 477, 245, None, 290, 250, 248, 647, 530, None, 132, 699, 284, 137, 531, 265, 725, 91, 676, 4, 53, 720, 175, 232, 624, 410, 341, 794, 786, None, 416, 611, 620, 451, None, 178, 75, None, 355, 363, 29, 134, None, 576, 60, 427, None, None, 334, None, 562, 486, 161, 543, None, 781, 454, 302, 141, 371, 197, 695, 578, 485, 719, 117, None, 165, None, 135, None, 306, 36, None, None, 319, 208, 668, 669, 450, 124, 738, 272, None, 107, 633, 43, 231, 281, 109, None, None, 44, 406, 5, 76, None, 663, None, 26, None, 654, 301, 494, None, 136, 79, 741, 634, 643, 424, 185, 401, None, 413, 28, 430, 80, 649, 212, 772, 180, 207, 694, 239, 322, None, 317, None, 507, 62, 625, 545, 253, 704, None, 423, 78, None, None, 246, 739, 598, 557, 105, 471, 346, 482, 724, 712, None, None, None, 569, 572, None, 525, 227, 475, 128, 466, 791, 498, 697, 594, None, 631, None, 275, 501, 72, 459, 396, None, 155, 192, None, 106, None, 285, 278, 677, 349, 27, 435, 552, 276, None, 374, 553, 533, 728, 585, 88, 16, 64, 22, None, 15, 664, None, None, 573, 730, 519, 492, 287, 544, 774, 469, 90, 591, None, 37, 737, 438, 139, 648, 732, 550, 489, 154, 19, 325, None, 237, 771, None, None, 74, 360, 749, None, 310, 258, 574, None, 600, 510, 9, 312, None, 509, 38, 267, None, 254, 661, 313, 45, 63, 472, None, 181, 564, None, 273, None, 524, 34, 523, None, 596, None, 73, 330, 305, 304, 478, 793, 705, 58, None, None, None, 21, 606, 534, None, None, 792, 168, 480, None, None, None, 462, None, 129, 436, 24, 667, 521, 11, 381, None, 240, 755, 495, 316, 263, 675, 150, 339, None, 770, 640, 264, None, 411, 777, 400, None, 455, 350, 442, None, 764, 359, 685, 742, 195, 388, 456, 187, 252, 619, 222, 463, 753, 622, 559, 563, 595, 608, None, 147, 3, 758, 39, 127, 470, 326, 577, 398, 437, 200, 357, 379, 493, 174, 556, 434, None, 149, 722, 40, 701, 376, 508, 100, 681, 82, None, 674, 286, 402, 740, 384, None, 260, None, 219, None, 6, 92, 542, 502, 356, 698, 717, 352, None, 444, 95, None, 382, 206, 20, 789, 66, 635, 779, 391, None, 618, 586, 659, None, 467, 787, 627, 621, 409, 718, 268, 259, 108, 399, 761, 369, None, 632, 484, 565, 172, 405, 433, 491, 184, 532, 389, None, 10, 670, None, 177, 614, None, 98, 432, 151, 126, 144, 651, 35, 140, 662, None, None, 49, 56, None, None, 251, 373, 693, 257, 768, 65, 684, 775, 425, None, 283, 709, 726, None, 279, None, None, 660, None, 30, 590, 458, 418, 452, None, 318, 148, 623, None, 196, 644, 213, 333, 752, 191, 460, 540, 210, 646, 364, 235, 99, 202, 522, 120, 2, None, 205, 747, 796, 490, None, 566, 85, 291, 383, 570, 538, 296, 584, 255, 443, 125, 473, 680, 421, 497, None, None, 32, 652, None, 763, 713, 428, 354, 297, None, 215, 362, 23, 14, 342, 535, 118, 723, None, 289, 223, 366, 48, 602, None, None, 282, 636, None, 145, None, 673, 748, 138, None, 445, 224, None, 671, 217, 483, None, None, 157, 551, 735, None, 309, None, 188, 441, 1, 765, 367, 59, 47, 759, 537, 504, 612, 642, 729, 638, 746, 216, 429, 130, None, 762, 314, 407, 760, 113, None, 169, 303, None, 605, 321, 561, 393, 299, 696, 474, 702, 123, 323, 422, 327, 329, 609, 198, 392, 554, 394, None, 340, 505, 496, None, 119, 71, 721, None, 211, None, None, 784, 256, 797, 166, 33, None, 736, 293, 101, 710, 230, None, 426, 575, 186, 754, 703, 17, 158, 520, 599, None, None, 345, 604, None, 692, 536, None, 529, 464, 68, 397, 657, None, 89, None, 688, 377, 331, 163, 629, 335, 262, 603, None, 626, 700, 271, 112, 716, None, 465, 295, 86, 221, 269, 308, 395, 782, 678, None, 587, 209, 546, 440, 173, None, None, 358, 453, 159, 795, 57, 97, None, 50, 548, 630, 743, 706, 658, None, 582, 514, 353, 581, 266, 516, 528, 404, 189, 131, 390, None, 592, 203, 567, 280, 122, 386, 778, 121, 515, 686, None, None, None, 46, 526, None, 307, 31, 593, 512, 190, None, 628, 249, 714, None, 69, 164, None, 707, 766, 104, 179, 133, None, None, 311, 715, 527, 103, 347, 176, 81, 656, 111, 368, 691, None, None, 479, 431, None, 83, 468, 143, 226, 683, 96, 672, 277, 320, None, 447, 70, 610, 8, 102, 682, 385, 167, 194, 588, 201, None, 338, 214, None, 449, 481, 500, None, 372, 679, None, 597, 199, 687, None, 403, 414, None, None, None, 511, 756, 247, 351, None, 734, 160, 506, 541, 783, 84, 420, 711, 242, 583, 77, 12, 446, 488, 361, 547, None, 518, 328, 228, 41, None, 579, 690, 234, 731, 798, 243, 51, 571, 336, None, None, 337, 439, 288, None, None, None, 549, 115, 665, 220, 378, 733, None, None, None, 387, 419, 750, 751, 412, None, 408, 241, 487, 499, None, 298, 615, None, 503, 332, 653, 182, None, 601, 666, None, None, 517, 315, 457, 589, None, 780, 238, 324, 607, 560, 55, 61, None, None, 233, 580, 171, None, 54, None, 461, 476, None, 344, 727, 343, 87, 637, 225, 613, 162, 767, 448, None, None, 18, 229, 170, 153, None, None, None, None, 13, 639, 650, 773, 800, 380, 218, 790, 193, None, 292, None]\n",
      "here\n"
     ]
    },
    {
     "ename": "MySQLInterfaceError",
     "evalue": "Python type tuple cannot be converted",
     "output_type": "error",
     "traceback": [
      "\u001b[31m---------------------------------------------------------------------------\u001b[39m",
      "\u001b[31mMySQLInterfaceError\u001b[39m                       Traceback (most recent call last)",
      "\u001b[36mCell\u001b[39m\u001b[36m \u001b[39m\u001b[32mIn[19]\u001b[39m\u001b[32m, line 48\u001b[39m\n\u001b[32m     46\u001b[39m \u001b[38;5;28;01mfor\u001b[39;00m i \u001b[38;5;129;01min\u001b[39;00m \u001b[38;5;28mrange\u001b[39m(\u001b[32m0\u001b[39m, \u001b[38;5;28mlen\u001b[39m(orders), batch_size):\n\u001b[32m     47\u001b[39m     batch = orders[i:i + batch_size]\n\u001b[32m---> \u001b[39m\u001b[32m48\u001b[39m     \u001b[43mcursor\u001b[49m\u001b[43m.\u001b[49m\u001b[43mexecute\u001b[49m\u001b[43m(\u001b[49m\u001b[43minsert_query\u001b[49m\u001b[43m,\u001b[49m\u001b[43m \u001b[49m\u001b[43mbatch\u001b[49m\u001b[43m)\u001b[49m\n\u001b[32m     49\u001b[39m     conn.commit()  \u001b[38;5;66;03m# Commit after each batch to release locks\u001b[39;00m\n\u001b[32m     50\u001b[39m     time.sleep(\u001b[38;5;28mmin\u001b[39m = \u001b[32m0.1\u001b[39m)\n",
      "\u001b[36mFile \u001b[39m\u001b[32m/Library/Frameworks/Python.framework/Versions/3.12/lib/python3.12/site-packages/mysql/connector/cursor_cext.py:326\u001b[39m, in \u001b[36mCMySQLCursor.execute\u001b[39m\u001b[34m(self, operation, params, map_results)\u001b[39m\n\u001b[32m    323\u001b[39m     \u001b[38;5;28;01mraise\u001b[39;00m ProgrammingError(\u001b[38;5;28mstr\u001b[39m(err)) \u001b[38;5;28;01mfrom\u001b[39;00m\u001b[38;5;250m \u001b[39m\u001b[34;01merr\u001b[39;00m\n\u001b[32m    325\u001b[39m \u001b[38;5;28;01mif\u001b[39;00m params:\n\u001b[32m--> \u001b[39m\u001b[32m326\u001b[39m     prepared = \u001b[38;5;28;43mself\u001b[39;49m\u001b[43m.\u001b[49m\u001b[43m_connection\u001b[49m\u001b[43m.\u001b[49m\u001b[43mprepare_for_mysql\u001b[49m\u001b[43m(\u001b[49m\u001b[43mparams\u001b[49m\u001b[43m)\u001b[49m\n\u001b[32m    327\u001b[39m     \u001b[38;5;28;01mif\u001b[39;00m \u001b[38;5;28misinstance\u001b[39m(prepared, \u001b[38;5;28mdict\u001b[39m):\n\u001b[32m    328\u001b[39m         stmt = _bytestr_format_dict(stmt, prepared)\n",
      "\u001b[36mFile \u001b[39m\u001b[32m/Library/Frameworks/Python.framework/Versions/3.12/lib/python3.12/site-packages/mysql/connector/connection_cext.py:935\u001b[39m, in \u001b[36mCMySQLConnection.prepare_for_mysql\u001b[39m\u001b[34m(self, params)\u001b[39m\n\u001b[32m    926\u001b[39m         result = [\n\u001b[32m    927\u001b[39m             \u001b[38;5;28mself\u001b[39m.converter.quote(\n\u001b[32m    928\u001b[39m                 \u001b[38;5;28mself\u001b[39m.converter.escape(\n\u001b[32m   (...)\u001b[39m\u001b[32m    932\u001b[39m             \u001b[38;5;28;01mfor\u001b[39;00m value \u001b[38;5;129;01min\u001b[39;00m params\n\u001b[32m    933\u001b[39m         ]\n\u001b[32m    934\u001b[39m     \u001b[38;5;28;01melse\u001b[39;00m:\n\u001b[32m--> \u001b[39m\u001b[32m935\u001b[39m         result = \u001b[38;5;28;43mself\u001b[39;49m\u001b[43m.\u001b[49m\u001b[43m_cmysql\u001b[49m\u001b[43m.\u001b[49m\u001b[43mconvert_to_mysql\u001b[49m\u001b[43m(\u001b[49m\u001b[43m*\u001b[49m\u001b[43mparams\u001b[49m\u001b[43m)\u001b[49m\n\u001b[32m    936\u001b[39m \u001b[38;5;28;01melif\u001b[39;00m \u001b[38;5;28misinstance\u001b[39m(params, \u001b[38;5;28mdict\u001b[39m):\n\u001b[32m    937\u001b[39m     result = {}\n",
      "\u001b[31mMySQLInterfaceError\u001b[39m: Python type tuple cannot be converted"
     ]
    }
   ],
   "source": [
    "conn = mysql.connector.connect(**DB_CONFIG)\n",
    "cursor = conn.cursor()\n",
    "\n",
    "# Create the orders table\n",
    "cursor.execute(\"\"\"\n",
    "    CREATE TABLE IF NOT EXISTS orders (\n",
    "        id INT AUTO_INCREMENT PRIMARY KEY,\n",
    "        order_date DATE NOT NULL,\n",
    "        user_id INT NOT NULL,\n",
    "        location_id VARCHAR(10) NOT NULL,\n",
    "        payment_id INT UNIQUE NULL,\n",
    "        FOREIGN KEY (user_id) REFERENCES users(id) ON DELETE CASCADE,\n",
    "        FOREIGN KEY (location_id) REFERENCES locations(id) ON DELETE CASCADE,\n",
    "        FOREIGN KEY (payment_id) REFERENCES payments(id) ON DELETE SET NULL\n",
    "    )\n",
    "\"\"\")\n",
    "conn.commit()\n",
    "\n",
    "# Fetch IDs\n",
    "cursor.execute(\"SELECT id FROM users\")\n",
    "user_ids = [row[0] for row in cursor.fetchall()]\n",
    "\n",
    "cursor.execute(\"SELECT id FROM locations\")\n",
    "location_ids = [row[0] for row in cursor.fetchall()]\n",
    "\n",
    "cursor.execute(\"SELECT id FROM payments\")\n",
    "all_payment_ids = [row[0] for row in cursor.fetchall()]\n",
    "random.shuffle(all_payment_ids)\n",
    "\n",
    "# First 800 orders get unique payment_ids, remaining 200 get NULL\n",
    "payment_ids_for_orders = all_payment_ids[:800] + [None] * 200\n",
    "random.shuffle(payment_ids_for_orders)\n",
    "print(payment_ids_for_orders)\n",
    "# Generate 1000 order rows\n",
    "orders = []\n",
    "for i in range(1000):\n",
    "    order_date = (datetime.today() - timedelta(days=random.randint(0, 365))).strftime('%Y-%m-%d')\n",
    "    user_id = random.choice(user_ids)\n",
    "    location_id = random.choice(location_ids)\n",
    "    payment_id = payment_ids_for_orders[i]\n",
    "    orders.append((order_date, user_id, location_id, payment_id))\n",
    "\n",
    "insert_query = \"\"\"\n",
    "    INSERT INTO orders (order_date, user_id, location_id, payment_id)\n",
    "    VALUES (%s, %s, %s, %s)\n",
    "\"\"\"\n",
    "print('here')\n",
    "batch_size = 100  # Insert in chunks of 100 rows\n",
    "\n",
    "for i in range(0, len(orders), batch_size):\n",
    "    batch = orders[i:i + batch_size]\n",
    "    cursor.executemany(insert_query, batch)\n",
    "    conn.commit()  # Commit after each batch to release locks\n",
    "    time.sleep(min = 0.1)\n",
    "\n",
    "\n",
    "cursor.close()\n",
    "conn.close()\n",
    "print(\"✅ Successfully inserted 1000 orders with unique payment_ids!\")"
   ]
  },
  {
   "cell_type": "code",
   "execution_count": null,
   "metadata": {},
   "outputs": [],
   "source": []
  }
 ],
 "metadata": {
  "kernelspec": {
   "display_name": "Python 3",
   "language": "python",
   "name": "python3"
  },
  "language_info": {
   "codemirror_mode": {
    "name": "ipython",
    "version": 3
   },
   "file_extension": ".py",
   "mimetype": "text/x-python",
   "name": "python",
   "nbconvert_exporter": "python",
   "pygments_lexer": "ipython3",
   "version": "3.12.5"
  }
 },
 "nbformat": 4,
 "nbformat_minor": 2
}
